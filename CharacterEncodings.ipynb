{
 "cells": [
  {
   "cell_type": "markdown",
   "id": "f65ceeeb",
   "metadata": {
    "papermill": {
     "duration": 0.007043,
     "end_time": "2023-05-25T10:40:52.619048",
     "exception": false,
     "start_time": "2023-05-25T10:40:52.612005",
     "status": "completed"
    },
    "tags": []
   },
   "source": [
    "**This notebook is an exercise in the [Data Cleaning](https://www.kaggle.com/learn/data-cleaning) course.  You can reference the tutorial at [this link](https://www.kaggle.com/alexisbcook/character-encodings).**\n",
    "\n",
    "---\n"
   ]
  },
  {
   "cell_type": "markdown",
   "id": "08fcebc7",
   "metadata": {
    "papermill": {
     "duration": 0.005869,
     "end_time": "2023-05-25T10:40:52.631411",
     "exception": false,
     "start_time": "2023-05-25T10:40:52.625542",
     "status": "completed"
    },
    "tags": []
   },
   "source": [
    "In this exercise, you'll apply what you learned in the **Character encodings** tutorial.\n",
    "\n",
    "# Setup\n",
    "\n",
    "The questions below will give you feedback on your work. Run the following cell to set up the feedback system."
   ]
  },
  {
   "cell_type": "code",
   "execution_count": 1,
   "id": "dfacb6e7",
   "metadata": {
    "execution": {
     "iopub.execute_input": "2023-05-25T10:40:52.646799Z",
     "iopub.status.busy": "2023-05-25T10:40:52.645834Z",
     "iopub.status.idle": "2023-05-25T10:40:52.752204Z",
     "shell.execute_reply": "2023-05-25T10:40:52.751093Z"
    },
    "papermill": {
     "duration": 0.117187,
     "end_time": "2023-05-25T10:40:52.754872",
     "exception": false,
     "start_time": "2023-05-25T10:40:52.637685",
     "status": "completed"
    },
    "tags": []
   },
   "outputs": [
    {
     "name": "stdout",
     "output_type": "stream",
     "text": [
      "Setup Complete\n"
     ]
    }
   ],
   "source": [
    "from learntools.core import binder\n",
    "binder.bind(globals())\n",
    "from learntools.data_cleaning.ex4 import *\n",
    "print(\"Setup Complete\")"
   ]
  },
  {
   "cell_type": "markdown",
   "id": "e6259f66",
   "metadata": {
    "papermill": {
     "duration": 0.005974,
     "end_time": "2023-05-25T10:40:52.767765",
     "exception": false,
     "start_time": "2023-05-25T10:40:52.761791",
     "status": "completed"
    },
    "tags": []
   },
   "source": [
    "# Get our environment set up\n",
    "\n",
    "The first thing we'll need to do is load in the libraries we'll be using."
   ]
  },
  {
   "cell_type": "code",
   "execution_count": 2,
   "id": "e0c2861f",
   "metadata": {
    "execution": {
     "iopub.execute_input": "2023-05-25T10:40:52.783082Z",
     "iopub.status.busy": "2023-05-25T10:40:52.782617Z",
     "iopub.status.idle": "2023-05-25T10:40:52.788071Z",
     "shell.execute_reply": "2023-05-25T10:40:52.787181Z"
    },
    "papermill": {
     "duration": 0.016271,
     "end_time": "2023-05-25T10:40:52.790157",
     "exception": false,
     "start_time": "2023-05-25T10:40:52.773886",
     "status": "completed"
    },
    "tags": []
   },
   "outputs": [],
   "source": [
    "# modules we'll use\n",
    "import pandas as pd\n",
    "import numpy as np\n",
    "\n",
    "# helpful character encoding module\n",
    "import charset_normalizer\n",
    "\n",
    "# set seed for reproducibility\n",
    "np.random.seed(0)"
   ]
  },
  {
   "cell_type": "markdown",
   "id": "d8b29fd9",
   "metadata": {
    "papermill": {
     "duration": 0.007423,
     "end_time": "2023-05-25T10:40:52.803859",
     "exception": false,
     "start_time": "2023-05-25T10:40:52.796436",
     "status": "completed"
    },
    "tags": []
   },
   "source": [
    "# 1) What are encodings?\n",
    "\n",
    "You're working with a dataset composed of bytes.  Run the code cell below to print a sample entry."
   ]
  },
  {
   "cell_type": "code",
   "execution_count": 3,
   "id": "895f2711",
   "metadata": {
    "execution": {
     "iopub.execute_input": "2023-05-25T10:40:52.818659Z",
     "iopub.status.busy": "2023-05-25T10:40:52.817352Z",
     "iopub.status.idle": "2023-05-25T10:40:52.823937Z",
     "shell.execute_reply": "2023-05-25T10:40:52.822603Z"
    },
    "papermill": {
     "duration": 0.016298,
     "end_time": "2023-05-25T10:40:52.826236",
     "exception": false,
     "start_time": "2023-05-25T10:40:52.809938",
     "status": "completed"
    },
    "tags": []
   },
   "outputs": [
    {
     "name": "stdout",
     "output_type": "stream",
     "text": [
      "b'\\xa7A\\xa6n'\n",
      "data type: <class 'bytes'>\n"
     ]
    }
   ],
   "source": [
    "sample_entry = b'\\xa7A\\xa6n'\n",
    "print(sample_entry)\n",
    "print('data type:', type(sample_entry))"
   ]
  },
  {
   "cell_type": "markdown",
   "id": "50b98299",
   "metadata": {
    "papermill": {
     "duration": 0.006102,
     "end_time": "2023-05-25T10:40:52.838629",
     "exception": false,
     "start_time": "2023-05-25T10:40:52.832527",
     "status": "completed"
    },
    "tags": []
   },
   "source": [
    "You notice that it doesn't use the standard UTF-8 encoding. \n",
    "\n",
    "Use the next code cell to create a variable `new_entry` that changes the encoding from `\"big5-tw\"` to `\"utf-8\"`.  `new_entry` should have the bytes datatype."
   ]
  },
  {
   "cell_type": "code",
   "execution_count": 4,
   "id": "bbbd4788",
   "metadata": {
    "execution": {
     "iopub.execute_input": "2023-05-25T10:40:52.853275Z",
     "iopub.status.busy": "2023-05-25T10:40:52.852835Z",
     "iopub.status.idle": "2023-05-25T10:40:52.864189Z",
     "shell.execute_reply": "2023-05-25T10:40:52.863068Z"
    },
    "papermill": {
     "duration": 0.02214,
     "end_time": "2023-05-25T10:40:52.867012",
     "exception": false,
     "start_time": "2023-05-25T10:40:52.844872",
     "status": "completed"
    },
    "tags": []
   },
   "outputs": [
    {
     "data": {
      "application/javascript": [
       "parent.postMessage({\"jupyterEvent\": \"custom.exercise_interaction\", \"data\": {\"outcomeType\": 1, \"valueTowardsCompletion\": 0.3333333333333333, \"interactionType\": 1, \"questionType\": 1, \"questionId\": \"1_EncodingsIntro\", \"learnToolsVersion\": \"0.3.4\", \"failureMessage\": \"\", \"exceptionClass\": \"\", \"trace\": \"\"}}, \"*\")"
      ],
      "text/plain": [
       "<IPython.core.display.Javascript object>"
      ]
     },
     "metadata": {},
     "output_type": "display_data"
    },
    {
     "data": {
      "text/markdown": [
       "<span style=\"color:#33cc33\">Correct</span>"
      ],
      "text/plain": [
       "Correct"
      ]
     },
     "metadata": {},
     "output_type": "display_data"
    }
   ],
   "source": [
    "before = sample_entry.decode(\"big5-tw\")\n",
    "new_entry = before.encode()\n",
    "\n",
    "# Check your answer\n",
    "q1.check()"
   ]
  },
  {
   "cell_type": "code",
   "execution_count": 5,
   "id": "0fb16400",
   "metadata": {
    "execution": {
     "iopub.execute_input": "2023-05-25T10:40:52.882314Z",
     "iopub.status.busy": "2023-05-25T10:40:52.881902Z",
     "iopub.status.idle": "2023-05-25T10:40:52.890776Z",
     "shell.execute_reply": "2023-05-25T10:40:52.889865Z"
    },
    "papermill": {
     "duration": 0.019192,
     "end_time": "2023-05-25T10:40:52.892874",
     "exception": false,
     "start_time": "2023-05-25T10:40:52.873682",
     "status": "completed"
    },
    "tags": []
   },
   "outputs": [
    {
     "data": {
      "application/javascript": [
       "parent.postMessage({\"jupyterEvent\": \"custom.exercise_interaction\", \"data\": {\"interactionType\": 3, \"questionType\": 1, \"questionId\": \"1_EncodingsIntro\", \"learnToolsVersion\": \"0.3.4\", \"valueTowardsCompletion\": 0.0, \"failureMessage\": \"\", \"exceptionClass\": \"\", \"trace\": \"\", \"outcomeType\": 4}}, \"*\")"
      ],
      "text/plain": [
       "<IPython.core.display.Javascript object>"
      ]
     },
     "metadata": {},
     "output_type": "display_data"
    },
    {
     "data": {
      "text/markdown": [
       "<span style=\"color:#33cc99\">Solution:</span> \n",
       "```python\n",
       "before = sample_entry.decode(\"big5-tw\")\n",
       "new_entry = before.encode()\n",
       "\n",
       "```"
      ],
      "text/plain": [
       "Solution: \n",
       "```python\n",
       "before = sample_entry.decode(\"big5-tw\")\n",
       "new_entry = before.encode()\n",
       "\n",
       "```"
      ]
     },
     "metadata": {},
     "output_type": "display_data"
    }
   ],
   "source": [
    "# Lines below will give you a hint or solution code\n",
    "#q1.hint()\n",
    "q1.solution()"
   ]
  },
  {
   "cell_type": "markdown",
   "id": "f72316cb",
   "metadata": {
    "papermill": {
     "duration": 0.006581,
     "end_time": "2023-05-25T10:40:52.906444",
     "exception": false,
     "start_time": "2023-05-25T10:40:52.899863",
     "status": "completed"
    },
    "tags": []
   },
   "source": [
    "# 2) Reading in files with encoding problems\n",
    "\n",
    "Use the code cell below to read in this file at path `\"../input/fatal-police-shootings-in-the-us/PoliceKillingsUS.csv\"`.  \n",
    "\n",
    "Figure out what the correct encoding should be and read in the file to a DataFrame `police_killings`."
   ]
  },
  {
   "cell_type": "code",
   "execution_count": 6,
   "id": "fd82ee9d",
   "metadata": {
    "execution": {
     "iopub.execute_input": "2023-05-25T10:40:52.922258Z",
     "iopub.status.busy": "2023-05-25T10:40:52.921850Z",
     "iopub.status.idle": "2023-05-25T10:40:52.953119Z",
     "shell.execute_reply": "2023-05-25T10:40:52.951782Z"
    },
    "papermill": {
     "duration": 0.042145,
     "end_time": "2023-05-25T10:40:52.955500",
     "exception": false,
     "start_time": "2023-05-25T10:40:52.913355",
     "status": "completed"
    },
    "tags": []
   },
   "outputs": [
    {
     "data": {
      "application/javascript": [
       "parent.postMessage({\"jupyterEvent\": \"custom.exercise_interaction\", \"data\": {\"outcomeType\": 1, \"valueTowardsCompletion\": 0.3333333333333333, \"interactionType\": 1, \"questionType\": 1, \"questionId\": \"2_ReadIn\", \"learnToolsVersion\": \"0.3.4\", \"failureMessage\": \"\", \"exceptionClass\": \"\", \"trace\": \"\"}}, \"*\")"
      ],
      "text/plain": [
       "<IPython.core.display.Javascript object>"
      ]
     },
     "metadata": {},
     "output_type": "display_data"
    },
    {
     "data": {
      "text/markdown": [
       "<span style=\"color:#33cc33\">Correct</span>"
      ],
      "text/plain": [
       "Correct"
      ]
     },
     "metadata": {},
     "output_type": "display_data"
    }
   ],
   "source": [
    "# TODO: Load in the DataFrame correctly.\n",
    "police_killings = pd.read_csv(\"../input/fatal-police-shootings-in-the-us/PoliceKillingsUS.csv\", encoding='Windows-1252')\n",
    "\n",
    "# Check your answer\n",
    "q2.check()"
   ]
  },
  {
   "cell_type": "markdown",
   "id": "7e758812",
   "metadata": {
    "papermill": {
     "duration": 0.007115,
     "end_time": "2023-05-25T10:40:52.969948",
     "exception": false,
     "start_time": "2023-05-25T10:40:52.962833",
     "status": "completed"
    },
    "tags": []
   },
   "source": [
    "Feel free to use any additional code cells for supplemental work.  To get credit for finishing this question, you'll need to run `q2.check()` and get a result of **Correct**."
   ]
  },
  {
   "cell_type": "code",
   "execution_count": 7,
   "id": "db4a7651",
   "metadata": {
    "execution": {
     "iopub.execute_input": "2023-05-25T10:40:52.986449Z",
     "iopub.status.busy": "2023-05-25T10:40:52.985927Z",
     "iopub.status.idle": "2023-05-25T10:40:52.990675Z",
     "shell.execute_reply": "2023-05-25T10:40:52.989691Z"
    },
    "papermill": {
     "duration": 0.015733,
     "end_time": "2023-05-25T10:40:52.992941",
     "exception": false,
     "start_time": "2023-05-25T10:40:52.977208",
     "status": "completed"
    },
    "tags": []
   },
   "outputs": [],
   "source": [
    "# (Optional) Use this code cell for any additional work."
   ]
  },
  {
   "cell_type": "code",
   "execution_count": 8,
   "id": "6f514ea4",
   "metadata": {
    "execution": {
     "iopub.execute_input": "2023-05-25T10:40:53.011117Z",
     "iopub.status.busy": "2023-05-25T10:40:53.010154Z",
     "iopub.status.idle": "2023-05-25T10:40:53.018397Z",
     "shell.execute_reply": "2023-05-25T10:40:53.017350Z"
    },
    "papermill": {
     "duration": 0.019741,
     "end_time": "2023-05-25T10:40:53.020846",
     "exception": false,
     "start_time": "2023-05-25T10:40:53.001105",
     "status": "completed"
    },
    "tags": []
   },
   "outputs": [
    {
     "data": {
      "application/javascript": [
       "parent.postMessage({\"jupyterEvent\": \"custom.exercise_interaction\", \"data\": {\"interactionType\": 3, \"questionType\": 1, \"questionId\": \"2_ReadIn\", \"learnToolsVersion\": \"0.3.4\", \"valueTowardsCompletion\": 0.0, \"failureMessage\": \"\", \"exceptionClass\": \"\", \"trace\": \"\", \"outcomeType\": 4}}, \"*\")"
      ],
      "text/plain": [
       "<IPython.core.display.Javascript object>"
      ]
     },
     "metadata": {},
     "output_type": "display_data"
    },
    {
     "data": {
      "text/markdown": [
       "<span style=\"color:#33cc99\">Solution:</span> \n",
       "```python\n",
       "police_killings = pd.read_csv(\"../input/fatal-police-shootings-in-the-us/PoliceKillingsUS.csv\", encoding='Windows-1252')\n",
       "\n",
       "```"
      ],
      "text/plain": [
       "Solution: \n",
       "```python\n",
       "police_killings = pd.read_csv(\"../input/fatal-police-shootings-in-the-us/PoliceKillingsUS.csv\", encoding='Windows-1252')\n",
       "\n",
       "```"
      ]
     },
     "metadata": {},
     "output_type": "display_data"
    }
   ],
   "source": [
    "# Lines below will give you a hint or solution code\n",
    "#q2.hint()\n",
    "q2.solution()"
   ]
  },
  {
   "cell_type": "markdown",
   "id": "4e8cd956",
   "metadata": {
    "papermill": {
     "duration": 0.007812,
     "end_time": "2023-05-25T10:40:53.036762",
     "exception": false,
     "start_time": "2023-05-25T10:40:53.028950",
     "status": "completed"
    },
    "tags": []
   },
   "source": [
    "# 3) Saving your files with UTF-8 encoding\n",
    "\n",
    "Save a version of the police killings dataset to CSV with UTF-8 encoding.  Your answer will be marked correct after saving this file.  \n",
    "\n",
    "Note: When using the `to_csv()` method, supply only the name of the file (e.g., `\"my_file.csv\"`).  This saves the file at the filepath `\"/kaggle/working/my_file.csv\"`."
   ]
  },
  {
   "cell_type": "code",
   "execution_count": 9,
   "id": "58d7e0c7",
   "metadata": {
    "execution": {
     "iopub.execute_input": "2023-05-25T10:40:53.054624Z",
     "iopub.status.busy": "2023-05-25T10:40:53.054148Z",
     "iopub.status.idle": "2023-05-25T10:40:53.113391Z",
     "shell.execute_reply": "2023-05-25T10:40:53.112442Z"
    },
    "papermill": {
     "duration": 0.072601,
     "end_time": "2023-05-25T10:40:53.117408",
     "exception": false,
     "start_time": "2023-05-25T10:40:53.044807",
     "status": "completed"
    },
    "tags": []
   },
   "outputs": [
    {
     "data": {
      "application/javascript": [
       "parent.postMessage({\"jupyterEvent\": \"custom.exercise_interaction\", \"data\": {\"outcomeType\": 1, \"valueTowardsCompletion\": 0.3333333333333333, \"interactionType\": 1, \"questionType\": 2, \"questionId\": \"3_SaveCSV\", \"learnToolsVersion\": \"0.3.4\", \"failureMessage\": \"\", \"exceptionClass\": \"\", \"trace\": \"\"}}, \"*\")"
      ],
      "text/plain": [
       "<IPython.core.display.Javascript object>"
      ]
     },
     "metadata": {},
     "output_type": "display_data"
    },
    {
     "data": {
      "text/markdown": [
       "<span style=\"color:#33cc33\">Correct</span>"
      ],
      "text/plain": [
       "Correct"
      ]
     },
     "metadata": {},
     "output_type": "display_data"
    }
   ],
   "source": [
    "# TODO: Save the police killings dataset to CSV\n",
    "\n",
    "\n",
    "police_killings.to_csv(\"my_file.csv\")\n",
    "\n",
    "# Check your answer\n",
    "q3.check()"
   ]
  },
  {
   "cell_type": "code",
   "execution_count": 10,
   "id": "aeb86fc8",
   "metadata": {
    "execution": {
     "iopub.execute_input": "2023-05-25T10:40:53.135843Z",
     "iopub.status.busy": "2023-05-25T10:40:53.135392Z",
     "iopub.status.idle": "2023-05-25T10:40:53.144247Z",
     "shell.execute_reply": "2023-05-25T10:40:53.143182Z"
    },
    "papermill": {
     "duration": 0.02081,
     "end_time": "2023-05-25T10:40:53.146525",
     "exception": false,
     "start_time": "2023-05-25T10:40:53.125715",
     "status": "completed"
    },
    "tags": []
   },
   "outputs": [
    {
     "data": {
      "application/javascript": [
       "parent.postMessage({\"jupyterEvent\": \"custom.exercise_interaction\", \"data\": {\"interactionType\": 3, \"questionType\": 2, \"questionId\": \"3_SaveCSV\", \"learnToolsVersion\": \"0.3.4\", \"valueTowardsCompletion\": 0.0, \"failureMessage\": \"\", \"exceptionClass\": \"\", \"trace\": \"\", \"outcomeType\": 4}}, \"*\")"
      ],
      "text/plain": [
       "<IPython.core.display.Javascript object>"
      ]
     },
     "metadata": {},
     "output_type": "display_data"
    },
    {
     "data": {
      "text/markdown": [
       "<span style=\"color:#33cc99\">Solution:</span> \n",
       "```python\n",
       "\n",
       "police_killings.to_csv(\"my_file.csv\")\n",
       "\n",
       "```"
      ],
      "text/plain": [
       "Solution: \n",
       "```python\n",
       "\n",
       "police_killings.to_csv(\"my_file.csv\")\n",
       "\n",
       "```"
      ]
     },
     "metadata": {},
     "output_type": "display_data"
    }
   ],
   "source": [
    "# Lines below will give you a hint or solution code\n",
    "#q3.hint()\n",
    "q3.solution()"
   ]
  },
  {
   "cell_type": "markdown",
   "id": "19abb6a5",
   "metadata": {
    "papermill": {
     "duration": 0.008133,
     "end_time": "2023-05-25T10:40:53.163128",
     "exception": false,
     "start_time": "2023-05-25T10:40:53.154995",
     "status": "completed"
    },
    "tags": []
   },
   "source": [
    "# (Optional) More practice\n",
    "\n",
    "Check out [this dataset of files in different character encodings](https://www.kaggle.com/rtatman/character-encoding-examples). Can you read in all the files with their original encodings and them save them out as UTF-8 files?\n",
    "\n",
    "If you have a file that's in UTF-8 but has just a couple of weird-looking characters in it, you can try out the [ftfy module](https://ftfy.readthedocs.io/en/latest/#) and see if it helps. \n",
    "\n",
    "# Keep going\n",
    "\n",
    "In the final lesson, learn how to [**clean up inconsistent text entries**](https://www.kaggle.com/alexisbcook/inconsistent-data-entry) in your dataset."
   ]
  },
  {
   "cell_type": "markdown",
   "id": "f84ef4cb",
   "metadata": {
    "papermill": {
     "duration": 0.008018,
     "end_time": "2023-05-25T10:40:53.179562",
     "exception": false,
     "start_time": "2023-05-25T10:40:53.171544",
     "status": "completed"
    },
    "tags": []
   },
   "source": [
    "---\n",
    "\n",
    "\n",
    "\n",
    "\n",
    "*Have questions or comments? Visit the [course discussion forum](https://www.kaggle.com/learn/data-cleaning/discussion) to chat with other learners.*"
   ]
  }
 ],
 "metadata": {
  "kernelspec": {
   "display_name": "Python 3",
   "language": "python",
   "name": "python3"
  },
  "language_info": {
   "codemirror_mode": {
    "name": "ipython",
    "version": 3
   },
   "file_extension": ".py",
   "mimetype": "text/x-python",
   "name": "python",
   "nbconvert_exporter": "python",
   "pygments_lexer": "ipython3",
   "version": "3.10.10"
  },
  "papermill": {
   "default_parameters": {},
   "duration": 14.025707,
   "end_time": "2023-05-25T10:40:54.010736",
   "environment_variables": {},
   "exception": null,
   "input_path": "__notebook__.ipynb",
   "output_path": "__notebook__.ipynb",
   "parameters": {},
   "start_time": "2023-05-25T10:40:39.985029",
   "version": "2.4.0"
  }
 },
 "nbformat": 4,
 "nbformat_minor": 5
}
