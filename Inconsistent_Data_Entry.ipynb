{
 "cells": [
  {
   "cell_type": "markdown",
   "id": "0189eee2",
   "metadata": {
    "papermill": {
     "duration": 0.007214,
     "end_time": "2023-05-25T18:56:48.670715",
     "exception": false,
     "start_time": "2023-05-25T18:56:48.663501",
     "status": "completed"
    },
    "tags": []
   },
   "source": [
    "**This notebook is an exercise in the [Data Cleaning](https://www.kaggle.com/learn/data-cleaning) course.  You can reference the tutorial at [this link](https://www.kaggle.com/alexisbcook/inconsistent-data-entry).**\n",
    "\n",
    "---\n"
   ]
  },
  {
   "cell_type": "markdown",
   "id": "da6ba1c0",
   "metadata": {
    "papermill": {
     "duration": 0.006679,
     "end_time": "2023-05-25T18:56:48.684513",
     "exception": false,
     "start_time": "2023-05-25T18:56:48.677834",
     "status": "completed"
    },
    "tags": []
   },
   "source": [
    "In this exercise, you'll apply what you learned in the **Inconsistent data entry** tutorial.\n",
    "\n",
    "# Setup\n",
    "\n",
    "The questions below will give you feedback on your work. Run the following cell to set up the feedback system."
   ]
  },
  {
   "cell_type": "code",
   "execution_count": 1,
   "id": "a3198ec7",
   "metadata": {
    "execution": {
     "iopub.execute_input": "2023-05-25T18:56:48.700150Z",
     "iopub.status.busy": "2023-05-25T18:56:48.699368Z",
     "iopub.status.idle": "2023-05-25T18:56:48.919530Z",
     "shell.execute_reply": "2023-05-25T18:56:48.918010Z"
    },
    "papermill": {
     "duration": 0.231093,
     "end_time": "2023-05-25T18:56:48.922349",
     "exception": false,
     "start_time": "2023-05-25T18:56:48.691256",
     "status": "completed"
    },
    "tags": []
   },
   "outputs": [
    {
     "name": "stdout",
     "output_type": "stream",
     "text": [
      "Setup Complete\n"
     ]
    }
   ],
   "source": [
    "from learntools.core import binder\n",
    "binder.bind(globals())\n",
    "from learntools.data_cleaning.ex5 import *\n",
    "print(\"Setup Complete\")"
   ]
  },
  {
   "cell_type": "markdown",
   "id": "0d71dba1",
   "metadata": {
    "papermill": {
     "duration": 0.007518,
     "end_time": "2023-05-25T18:56:48.936926",
     "exception": false,
     "start_time": "2023-05-25T18:56:48.929408",
     "status": "completed"
    },
    "tags": []
   },
   "source": [
    "# Get our environment set up\n",
    "\n",
    "The first thing we'll need to do is load in the libraries and dataset we'll be using.  We use the same dataset from the tutorial."
   ]
  },
  {
   "cell_type": "code",
   "execution_count": 2,
   "id": "069633de",
   "metadata": {
    "execution": {
     "iopub.execute_input": "2023-05-25T18:56:48.953166Z",
     "iopub.status.busy": "2023-05-25T18:56:48.952712Z",
     "iopub.status.idle": "2023-05-25T18:56:48.971742Z",
     "shell.execute_reply": "2023-05-25T18:56:48.970483Z"
    },
    "papermill": {
     "duration": 0.030425,
     "end_time": "2023-05-25T18:56:48.974774",
     "exception": false,
     "start_time": "2023-05-25T18:56:48.944349",
     "status": "completed"
    },
    "tags": []
   },
   "outputs": [],
   "source": [
    "# modules we'll use\n",
    "import pandas as pd\n",
    "import numpy as np\n",
    "\n",
    "# helpful modules\n",
    "import fuzzywuzzy\n",
    "from fuzzywuzzy import process\n",
    "import charset_normalizer\n",
    "\n",
    "# read in all our data\n",
    "professors = pd.read_csv(\"../input/pakistan-intellectual-capital/pakistan_intellectual_capital.csv\")\n",
    "\n",
    "# set seed for reproducibility\n",
    "np.random.seed(0)"
   ]
  },
  {
   "cell_type": "markdown",
   "id": "3fc61700",
   "metadata": {
    "papermill": {
     "duration": 0.008227,
     "end_time": "2023-05-25T18:56:48.989931",
     "exception": false,
     "start_time": "2023-05-25T18:56:48.981704",
     "status": "completed"
    },
    "tags": []
   },
   "source": [
    "Next, we'll redo all of the work that we did in the tutorial."
   ]
  },
  {
   "cell_type": "code",
   "execution_count": 3,
   "id": "72102a4b",
   "metadata": {
    "execution": {
     "iopub.execute_input": "2023-05-25T18:56:49.005330Z",
     "iopub.status.busy": "2023-05-25T18:56:49.004915Z",
     "iopub.status.idle": "2023-05-25T18:56:49.022594Z",
     "shell.execute_reply": "2023-05-25T18:56:49.021630Z"
    },
    "papermill": {
     "duration": 0.028251,
     "end_time": "2023-05-25T18:56:49.024973",
     "exception": false,
     "start_time": "2023-05-25T18:56:48.996722",
     "status": "completed"
    },
    "tags": []
   },
   "outputs": [
    {
     "name": "stdout",
     "output_type": "stream",
     "text": [
      "All done!\n"
     ]
    }
   ],
   "source": [
    "# convert to lower case\n",
    "professors['Country'] = professors['Country'].str.lower()\n",
    "# remove trailing white spaces\n",
    "professors['Country'] = professors['Country'].str.strip()\n",
    "\n",
    "# get the top 10 closest matches to \"south korea\"\n",
    "countries = professors['Country'].unique()\n",
    "matches = fuzzywuzzy.process.extract(\"south korea\", countries, limit=10, scorer=fuzzywuzzy.fuzz.token_sort_ratio)\n",
    "\n",
    "def replace_matches_in_column(df, column, string_to_match, min_ratio = 47):\n",
    "    # get a list of unique strings\n",
    "    strings = df[column].unique()\n",
    "    \n",
    "    # get the top 10 closest matches to our input string\n",
    "    matches = fuzzywuzzy.process.extract(string_to_match, strings, \n",
    "                                         limit=10, scorer=fuzzywuzzy.fuzz.token_sort_ratio)\n",
    "\n",
    "    # only get matches with a ratio > 90\n",
    "    close_matches = [matches[0] for matches in matches if matches[1] >= min_ratio]\n",
    "\n",
    "    # get the rows of all the close matches in our dataframe\n",
    "    rows_with_matches = df[column].isin(close_matches)\n",
    "\n",
    "    # replace all rows with close matches with the input matches \n",
    "    df.loc[rows_with_matches, column] = string_to_match\n",
    "    \n",
    "    # let us know the function's done\n",
    "    print(\"All done!\")\n",
    "    \n",
    "replace_matches_in_column(df=professors, column='Country', string_to_match=\"south korea\")\n",
    "countries = professors['Country'].unique()"
   ]
  },
  {
   "cell_type": "markdown",
   "id": "c33b9a46",
   "metadata": {
    "papermill": {
     "duration": 0.007174,
     "end_time": "2023-05-25T18:56:49.039147",
     "exception": false,
     "start_time": "2023-05-25T18:56:49.031973",
     "status": "completed"
    },
    "tags": []
   },
   "source": [
    "# 1) Examine another column\n",
    "\n",
    "Write code below to take a look at all the unique values in the \"Graduated from\" column."
   ]
  },
  {
   "cell_type": "code",
   "execution_count": 4,
   "id": "4f9a2c86",
   "metadata": {
    "execution": {
     "iopub.execute_input": "2023-05-25T18:56:49.055121Z",
     "iopub.status.busy": "2023-05-25T18:56:49.054724Z",
     "iopub.status.idle": "2023-05-25T18:56:49.060213Z",
     "shell.execute_reply": "2023-05-25T18:56:49.059072Z"
    },
    "papermill": {
     "duration": 0.016695,
     "end_time": "2023-05-25T18:56:49.062874",
     "exception": false,
     "start_time": "2023-05-25T18:56:49.046179",
     "status": "completed"
    },
    "tags": []
   },
   "outputs": [],
   "source": [
    "unis = professors['Graduated from'].unique()"
   ]
  },
  {
   "cell_type": "markdown",
   "id": "acecb4ad",
   "metadata": {
    "papermill": {
     "duration": 0.006745,
     "end_time": "2023-05-25T18:56:49.076915",
     "exception": false,
     "start_time": "2023-05-25T18:56:49.070170",
     "status": "completed"
    },
    "tags": []
   },
   "source": [
    "Do you notice any inconsistencies in the data?  Can any of the inconsistencies in the data be fixed by removing white spaces at the beginning and end of cells?\n",
    "\n",
    "Once you have answered these questions, run the code cell below to get credit for your work."
   ]
  },
  {
   "cell_type": "code",
   "execution_count": 5,
   "id": "91632283",
   "metadata": {
    "execution": {
     "iopub.execute_input": "2023-05-25T18:56:49.092623Z",
     "iopub.status.busy": "2023-05-25T18:56:49.092213Z",
     "iopub.status.idle": "2023-05-25T18:56:49.102342Z",
     "shell.execute_reply": "2023-05-25T18:56:49.101202Z"
    },
    "papermill": {
     "duration": 0.020981,
     "end_time": "2023-05-25T18:56:49.104822",
     "exception": false,
     "start_time": "2023-05-25T18:56:49.083841",
     "status": "completed"
    },
    "tags": []
   },
   "outputs": [
    {
     "data": {
      "application/javascript": [
       "parent.postMessage({\"jupyterEvent\": \"custom.exercise_interaction\", \"data\": {\"outcomeType\": 1, \"valueTowardsCompletion\": 0.3333333333333333, \"interactionType\": 1, \"questionType\": 4, \"questionId\": \"1_ExamineProvince\", \"learnToolsVersion\": \"0.3.4\", \"failureMessage\": \"\", \"exceptionClass\": \"\", \"trace\": \"\"}}, \"*\")"
      ],
      "text/plain": [
       "<IPython.core.display.Javascript object>"
      ]
     },
     "metadata": {},
     "output_type": "display_data"
    },
    {
     "data": {
      "text/markdown": [
       "<span style=\"color:#33cc33\">Correct:</span> \n",
       "\n",
       "There are inconsistencies that can be fixed by removing white spaces at the beginning and end of cells.  For instance, \"University of Central Florida\" and \" University of Central Florida\" both appear in the column."
      ],
      "text/plain": [
       "Correct: \n",
       "\n",
       "There are inconsistencies that can be fixed by removing white spaces at the beginning and end of cells.  For instance, \"University of Central Florida\" and \" University of Central Florida\" both appear in the column."
      ]
     },
     "metadata": {},
     "output_type": "display_data"
    }
   ],
   "source": [
    "# Check your answer (Run this code cell to receive credit!)\n",
    "q1.check()"
   ]
  },
  {
   "cell_type": "code",
   "execution_count": 6,
   "id": "91b2737d",
   "metadata": {
    "execution": {
     "iopub.execute_input": "2023-05-25T18:56:49.121440Z",
     "iopub.status.busy": "2023-05-25T18:56:49.120997Z",
     "iopub.status.idle": "2023-05-25T18:56:49.130792Z",
     "shell.execute_reply": "2023-05-25T18:56:49.129601Z"
    },
    "papermill": {
     "duration": 0.021017,
     "end_time": "2023-05-25T18:56:49.133261",
     "exception": false,
     "start_time": "2023-05-25T18:56:49.112244",
     "status": "completed"
    },
    "tags": []
   },
   "outputs": [
    {
     "data": {
      "application/javascript": [
       "parent.postMessage({\"jupyterEvent\": \"custom.exercise_interaction\", \"data\": {\"interactionType\": 2, \"questionType\": 4, \"questionId\": \"1_ExamineProvince\", \"learnToolsVersion\": \"0.3.4\", \"valueTowardsCompletion\": 0.0, \"failureMessage\": \"\", \"exceptionClass\": \"\", \"trace\": \"\", \"outcomeType\": 4}}, \"*\")"
      ],
      "text/plain": [
       "<IPython.core.display.Javascript object>"
      ]
     },
     "metadata": {},
     "output_type": "display_data"
    },
    {
     "data": {
      "text/markdown": [
       "<span style=\"color:#3366cc\">Hint:</span> Use `unis = professors['Graduated from'].unique()` to take a look at the unique values in the 'Graduated from' column. You may find it useful to sort the data before printing it."
      ],
      "text/plain": [
       "Hint: Use `unis = professors['Graduated from'].unique()` to take a look at the unique values in the 'Graduated from' column. You may find it useful to sort the data before printing it."
      ]
     },
     "metadata": {},
     "output_type": "display_data"
    }
   ],
   "source": [
    "# Line below will give you a hint\n",
    "q1.hint()"
   ]
  },
  {
   "cell_type": "markdown",
   "id": "2219d6eb",
   "metadata": {
    "papermill": {
     "duration": 0.007274,
     "end_time": "2023-05-25T18:56:49.148237",
     "exception": false,
     "start_time": "2023-05-25T18:56:49.140963",
     "status": "completed"
    },
    "tags": []
   },
   "source": [
    "# 2) Do some text pre-processing\n",
    "\n",
    "Convert every entry in the \"Graduated from\" column in the `professors` DataFrame to remove white spaces at the beginning and end of cells."
   ]
  },
  {
   "cell_type": "code",
   "execution_count": 7,
   "id": "a5cd4ece",
   "metadata": {
    "execution": {
     "iopub.execute_input": "2023-05-25T18:56:49.165393Z",
     "iopub.status.busy": "2023-05-25T18:56:49.164955Z",
     "iopub.status.idle": "2023-05-25T18:56:49.181822Z",
     "shell.execute_reply": "2023-05-25T18:56:49.180700Z"
    },
    "papermill": {
     "duration": 0.02855,
     "end_time": "2023-05-25T18:56:49.184345",
     "exception": false,
     "start_time": "2023-05-25T18:56:49.155795",
     "status": "completed"
    },
    "tags": []
   },
   "outputs": [
    {
     "data": {
      "application/javascript": [
       "parent.postMessage({\"jupyterEvent\": \"custom.exercise_interaction\", \"data\": {\"outcomeType\": 1, \"valueTowardsCompletion\": 0.3333333333333333, \"interactionType\": 1, \"questionType\": 1, \"questionId\": \"2_TextProcessing\", \"learnToolsVersion\": \"0.3.4\", \"failureMessage\": \"\", \"exceptionClass\": \"\", \"trace\": \"\"}}, \"*\")"
      ],
      "text/plain": [
       "<IPython.core.display.Javascript object>"
      ]
     },
     "metadata": {},
     "output_type": "display_data"
    },
    {
     "data": {
      "text/markdown": [
       "<span style=\"color:#33cc33\">Correct</span>"
      ],
      "text/plain": [
       "Correct"
      ]
     },
     "metadata": {},
     "output_type": "display_data"
    }
   ],
   "source": [
    "professors['Graduated from'] = professors['Graduated from'].str.strip()\n",
    "____\n",
    "unis = professors['Graduated from'].unique()\n",
    "# Check your answer\n",
    "q2.check()"
   ]
  },
  {
   "cell_type": "code",
   "execution_count": 8,
   "id": "64b05b37",
   "metadata": {
    "execution": {
     "iopub.execute_input": "2023-05-25T18:56:49.201895Z",
     "iopub.status.busy": "2023-05-25T18:56:49.201481Z",
     "iopub.status.idle": "2023-05-25T18:56:49.209841Z",
     "shell.execute_reply": "2023-05-25T18:56:49.208972Z"
    },
    "papermill": {
     "duration": 0.019864,
     "end_time": "2023-05-25T18:56:49.212124",
     "exception": false,
     "start_time": "2023-05-25T18:56:49.192260",
     "status": "completed"
    },
    "tags": []
   },
   "outputs": [
    {
     "data": {
      "application/javascript": [
       "parent.postMessage({\"jupyterEvent\": \"custom.exercise_interaction\", \"data\": {\"interactionType\": 3, \"questionType\": 1, \"questionId\": \"2_TextProcessing\", \"learnToolsVersion\": \"0.3.4\", \"valueTowardsCompletion\": 0.0, \"failureMessage\": \"\", \"exceptionClass\": \"\", \"trace\": \"\", \"outcomeType\": 4}}, \"*\")"
      ],
      "text/plain": [
       "<IPython.core.display.Javascript object>"
      ]
     },
     "metadata": {},
     "output_type": "display_data"
    },
    {
     "data": {
      "text/markdown": [
       "<span style=\"color:#33cc99\">Solution:</span> \n",
       "```python\n",
       "professors['Graduated from'] = professors['Graduated from'].str.strip()\n",
       "\n",
       "```"
      ],
      "text/plain": [
       "Solution: \n",
       "```python\n",
       "professors['Graduated from'] = professors['Graduated from'].str.strip()\n",
       "\n",
       "```"
      ]
     },
     "metadata": {},
     "output_type": "display_data"
    }
   ],
   "source": [
    "# Lines below will give you a hint or solution code\n",
    "#q2.hint()\n",
    "q2.solution()"
   ]
  },
  {
   "cell_type": "markdown",
   "id": "707f252c",
   "metadata": {
    "papermill": {
     "duration": 0.007958,
     "end_time": "2023-05-25T18:56:49.228508",
     "exception": false,
     "start_time": "2023-05-25T18:56:49.220550",
     "status": "completed"
    },
    "tags": []
   },
   "source": [
    "# 3) Continue working with countries\n",
    "\n",
    "In the tutorial, we focused on cleaning up inconsistencies in the \"Country\" column.  Run the code cell below to view the list of unique values that we ended with."
   ]
  },
  {
   "cell_type": "code",
   "execution_count": 9,
   "id": "9267a2cf",
   "metadata": {
    "execution": {
     "iopub.execute_input": "2023-05-25T18:56:49.246884Z",
     "iopub.status.busy": "2023-05-25T18:56:49.246474Z",
     "iopub.status.idle": "2023-05-25T18:56:49.254426Z",
     "shell.execute_reply": "2023-05-25T18:56:49.253607Z"
    },
    "papermill": {
     "duration": 0.019784,
     "end_time": "2023-05-25T18:56:49.256592",
     "exception": false,
     "start_time": "2023-05-25T18:56:49.236808",
     "status": "completed"
    },
    "tags": []
   },
   "outputs": [
    {
     "data": {
      "text/plain": [
       "array(['australia', 'austria', 'canada', 'china', 'finland', 'france',\n",
       "       'germany', 'greece', 'hongkong', 'ireland', 'italy', 'japan',\n",
       "       'macau', 'malaysia', 'mauritius', 'netherland', 'new zealand',\n",
       "       'norway', 'pakistan', 'portugal', 'russian federation',\n",
       "       'saudi arabia', 'scotland', 'singapore', 'south korea', 'spain',\n",
       "       'sweden', 'thailand', 'turkey', 'uk', 'urbana', 'usa', 'usofa'],\n",
       "      dtype=object)"
      ]
     },
     "execution_count": 9,
     "metadata": {},
     "output_type": "execute_result"
    }
   ],
   "source": [
    "# get all the unique values in the 'City' column\n",
    "countries = professors['Country'].unique()\n",
    "\n",
    "# sort them alphabetically and then take a closer look\n",
    "countries.sort()\n",
    "countries"
   ]
  },
  {
   "cell_type": "markdown",
   "id": "e69694d3",
   "metadata": {
    "papermill": {
     "duration": 0.008024,
     "end_time": "2023-05-25T18:56:49.273149",
     "exception": false,
     "start_time": "2023-05-25T18:56:49.265125",
     "status": "completed"
    },
    "tags": []
   },
   "source": [
    "Take another look at the \"Country\" column and see if there's any more data cleaning we need to do.\n",
    "\n",
    "It looks like 'usa' and 'usofa' should be the same country.  Correct the \"Country\" column in the dataframe to replace 'usofa' with 'usa'.\n",
    "\n",
    "**Use the most recent version of the DataFrame (with the whitespaces at the beginning and end of cells removed) from question 2.**"
   ]
  },
  {
   "cell_type": "code",
   "execution_count": 10,
   "id": "253f3c07",
   "metadata": {
    "execution": {
     "iopub.execute_input": "2023-05-25T18:56:49.292087Z",
     "iopub.status.busy": "2023-05-25T18:56:49.291704Z",
     "iopub.status.idle": "2023-05-25T18:56:49.305811Z",
     "shell.execute_reply": "2023-05-25T18:56:49.304934Z"
    },
    "papermill": {
     "duration": 0.026939,
     "end_time": "2023-05-25T18:56:49.308473",
     "exception": false,
     "start_time": "2023-05-25T18:56:49.281534",
     "status": "completed"
    },
    "tags": []
   },
   "outputs": [
    {
     "name": "stdout",
     "output_type": "stream",
     "text": [
      "All done!\n"
     ]
    },
    {
     "data": {
      "application/javascript": [
       "parent.postMessage({\"jupyterEvent\": \"custom.exercise_interaction\", \"data\": {\"outcomeType\": 1, \"valueTowardsCompletion\": 0.3333333333333333, \"interactionType\": 1, \"questionType\": 1, \"questionId\": \"3_WorkingWithCities\", \"learnToolsVersion\": \"0.3.4\", \"failureMessage\": \"\", \"exceptionClass\": \"\", \"trace\": \"\"}}, \"*\")"
      ],
      "text/plain": [
       "<IPython.core.display.Javascript object>"
      ]
     },
     "metadata": {},
     "output_type": "display_data"
    },
    {
     "data": {
      "text/markdown": [
       "<span style=\"color:#33cc33\">Correct</span>"
      ],
      "text/plain": [
       "Correct"
      ]
     },
     "metadata": {},
     "output_type": "display_data"
    }
   ],
   "source": [
    "matches = fuzzywuzzy.process.extract(\"usa\", countries, limit=10, scorer=fuzzywuzzy.fuzz.token_sort_ratio)\n",
    "replace_matches_in_column(df=professors, column='Country', string_to_match=\"usa\", min_ratio=70)\n",
    "# Check your answer\n",
    "q3.check()"
   ]
  },
  {
   "cell_type": "code",
   "execution_count": 11,
   "id": "8f394d05",
   "metadata": {
    "execution": {
     "iopub.execute_input": "2023-05-25T18:56:49.328023Z",
     "iopub.status.busy": "2023-05-25T18:56:49.327605Z",
     "iopub.status.idle": "2023-05-25T18:56:49.336814Z",
     "shell.execute_reply": "2023-05-25T18:56:49.335625Z"
    },
    "papermill": {
     "duration": 0.021604,
     "end_time": "2023-05-25T18:56:49.338964",
     "exception": false,
     "start_time": "2023-05-25T18:56:49.317360",
     "status": "completed"
    },
    "tags": []
   },
   "outputs": [
    {
     "data": {
      "application/javascript": [
       "parent.postMessage({\"jupyterEvent\": \"custom.exercise_interaction\", \"data\": {\"interactionType\": 3, \"questionType\": 1, \"questionId\": \"3_WorkingWithCities\", \"learnToolsVersion\": \"0.3.4\", \"valueTowardsCompletion\": 0.0, \"failureMessage\": \"\", \"exceptionClass\": \"\", \"trace\": \"\", \"outcomeType\": 4}}, \"*\")"
      ],
      "text/plain": [
       "<IPython.core.display.Javascript object>"
      ]
     },
     "metadata": {},
     "output_type": "display_data"
    },
    {
     "data": {
      "text/markdown": [
       "<span style=\"color:#33cc99\">Solution:</span> \n",
       "```python\n",
       "matches = fuzzywuzzy.process.extract(\"usa\", countries, limit=10, scorer=fuzzywuzzy.fuzz.token_sort_ratio)\n",
       "replace_matches_in_column(df=professors, column='Country', string_to_match=\"usa\", min_ratio=70)\n",
       "\n",
       "```"
      ],
      "text/plain": [
       "Solution: \n",
       "```python\n",
       "matches = fuzzywuzzy.process.extract(\"usa\", countries, limit=10, scorer=fuzzywuzzy.fuzz.token_sort_ratio)\n",
       "replace_matches_in_column(df=professors, column='Country', string_to_match=\"usa\", min_ratio=70)\n",
       "\n",
       "```"
      ]
     },
     "metadata": {},
     "output_type": "display_data"
    }
   ],
   "source": [
    "# Lines below will give you a hint or solution code\n",
    "#q3.hint()\n",
    "q3.solution()"
   ]
  },
  {
   "cell_type": "markdown",
   "id": "1a8f0dea",
   "metadata": {
    "papermill": {
     "duration": 0.009092,
     "end_time": "2023-05-25T18:56:49.357673",
     "exception": false,
     "start_time": "2023-05-25T18:56:49.348581",
     "status": "completed"
    },
    "tags": []
   },
   "source": [
    "# Congratulations!\n",
    "\n",
    "Congratulations for completing the **Data Cleaning** course on Kaggle Learn!\n",
    "\n",
    "To practice your new skills, you're encouraged to download and investigate some of [Kaggle's Datasets](https://www.kaggle.com/datasets)."
   ]
  },
  {
   "cell_type": "markdown",
   "id": "18de1888",
   "metadata": {
    "papermill": {
     "duration": 0.00928,
     "end_time": "2023-05-25T18:56:49.376639",
     "exception": false,
     "start_time": "2023-05-25T18:56:49.367359",
     "status": "completed"
    },
    "tags": []
   },
   "source": [
    "---\n",
    "\n",
    "\n",
    "\n",
    "\n",
    "*Have questions or comments? Visit the [course discussion forum](https://www.kaggle.com/learn/data-cleaning/discussion) to chat with other learners.*"
   ]
  }
 ],
 "metadata": {
  "kernelspec": {
   "display_name": "Python 3",
   "language": "python",
   "name": "python3"
  },
  "language_info": {
   "codemirror_mode": {
    "name": "ipython",
    "version": 3
   },
   "file_extension": ".py",
   "mimetype": "text/x-python",
   "name": "python",
   "nbconvert_exporter": "python",
   "pygments_lexer": "ipython3",
   "version": "3.10.10"
  },
  "papermill": {
   "default_parameters": {},
   "duration": 14.768899,
   "end_time": "2023-05-25T18:56:50.308739",
   "environment_variables": {},
   "exception": null,
   "input_path": "__notebook__.ipynb",
   "output_path": "__notebook__.ipynb",
   "parameters": {},
   "start_time": "2023-05-25T18:56:35.539840",
   "version": "2.4.0"
  }
 },
 "nbformat": 4,
 "nbformat_minor": 5
}
